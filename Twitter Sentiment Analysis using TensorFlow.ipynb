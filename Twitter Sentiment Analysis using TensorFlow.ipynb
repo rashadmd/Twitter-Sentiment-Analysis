{
 "cells": [
  {
   "cell_type": "markdown",
   "id": "3dc4ea57",
   "metadata": {
    "papermill": {
     "duration": 0.008991,
     "end_time": "2022-11-17T10:19:05.352110",
     "exception": false,
     "start_time": "2022-11-17T10:19:05.343119",
     "status": "completed"
    },
    "tags": []
   },
   "source": [
    "<a id=\"2\"></a> \n",
    "# 1. Importing Libraries"
   ]
  },
  {
   "cell_type": "code",
   "execution_count": 1,
   "id": "ff46b28b",
   "metadata": {
    "execution": {
     "iopub.execute_input": "2022-11-17T10:19:05.372399Z",
     "iopub.status.busy": "2022-11-17T10:19:05.371533Z",
     "iopub.status.idle": "2022-11-17T10:19:13.165688Z",
     "shell.execute_reply": "2022-11-17T10:19:13.164681Z"
    },
    "papermill": {
     "duration": 7.808217,
     "end_time": "2022-11-17T10:19:13.169232",
     "exception": false,
     "start_time": "2022-11-17T10:19:05.361015",
     "status": "completed"
    },
    "tags": []
   },
   "outputs": [
    {
     "name": "stderr",
     "output_type": "stream",
     "text": [
      "[nltk_data] Downloading package stopwords to\n",
      "[nltk_data]     C:\\Users\\rosin\\AppData\\Roaming\\nltk_data...\n",
      "[nltk_data]   Package stopwords is already up-to-date!\n"
     ]
    }
   ],
   "source": [
    "import pandas as pd\n",
    "import numpy as np\n",
    "import string\n",
    "from tensorflow.keras.preprocessing.text import Tokenizer\n",
    "from tensorflow.keras.preprocessing.sequence import pad_sequences\n",
    "import matplotlib.pyplot as plt\n",
    "import seaborn as sns\n",
    "from nltk.corpus import stopwords\n",
    "import nltk\n",
    "import re\n",
    "import multiprocessing\n",
    "import tensorflow as tf\n",
    "from sklearn.model_selection import train_test_split\n",
    "nltk.download(\"stopwords\")\n",
    "\n",
    "import warnings\n",
    "warnings.filterwarnings(\"ignore\")"
   ]
  },
  {
   "cell_type": "markdown",
   "id": "181f35b4",
   "metadata": {
    "papermill": {
     "duration": 0.008526,
     "end_time": "2022-11-17T10:19:13.188960",
     "exception": false,
     "start_time": "2022-11-17T10:19:13.180434",
     "status": "completed"
    },
    "tags": []
   },
   "source": [
    "<a id=\"3\"></a> \n",
    "# 2. Loading the Data"
   ]
  },
  {
   "cell_type": "code",
   "execution_count": 3,
   "id": "4807213f",
   "metadata": {
    "execution": {
     "iopub.execute_input": "2022-11-17T10:19:13.207662Z",
     "iopub.status.busy": "2022-11-17T10:19:13.207147Z",
     "iopub.status.idle": "2022-11-17T10:19:19.541622Z",
     "shell.execute_reply": "2022-11-17T10:19:19.540553Z"
    },
    "papermill": {
     "duration": 6.346694,
     "end_time": "2022-11-17T10:19:19.544342",
     "exception": false,
     "start_time": "2022-11-17T10:19:13.197648",
     "status": "completed"
    },
    "tags": []
   },
   "outputs": [],
   "source": [
    "# setting the names of the columns into col_names\n",
    "\n",
    "col_names = [\"target\", \"ids\", \"date\", \"flag\", \"user\", \"text\"]\n",
    "# reading the data from the path and using ISO-8859-1 encoding to decode it.\n",
    "\n",
    "df = pd.read_csv(r'C:\\Users\\rosin\\OneDrive\\Desktop\\New folder (4)\\data.csv',\n",
    "            encoding = \"ISO-8859-1\",\n",
    "            names=col_names)"
   ]
  },
  {
   "cell_type": "code",
   "execution_count": 4,
   "id": "f1b4e7dc",
   "metadata": {
    "execution": {
     "iopub.execute_input": "2022-11-17T10:19:19.563631Z",
     "iopub.status.busy": "2022-11-17T10:19:19.563294Z",
     "iopub.status.idle": "2022-11-17T10:19:19.769746Z",
     "shell.execute_reply": "2022-11-17T10:19:19.768670Z"
    },
    "papermill": {
     "duration": 0.21941,
     "end_time": "2022-11-17T10:19:19.772739",
     "exception": false,
     "start_time": "2022-11-17T10:19:19.553329",
     "status": "completed"
    },
    "tags": []
   },
   "outputs": [
    {
     "data": {
      "text/html": [
       "<div>\n",
       "<style scoped>\n",
       "    .dataframe tbody tr th:only-of-type {\n",
       "        vertical-align: middle;\n",
       "    }\n",
       "\n",
       "    .dataframe tbody tr th {\n",
       "        vertical-align: top;\n",
       "    }\n",
       "\n",
       "    .dataframe thead th {\n",
       "        text-align: right;\n",
       "    }\n",
       "</style>\n",
       "<table border=\"1\" class=\"dataframe\">\n",
       "  <thead>\n",
       "    <tr style=\"text-align: right;\">\n",
       "      <th></th>\n",
       "      <th>target</th>\n",
       "      <th>ids</th>\n",
       "      <th>date</th>\n",
       "      <th>flag</th>\n",
       "      <th>user</th>\n",
       "      <th>text</th>\n",
       "    </tr>\n",
       "  </thead>\n",
       "  <tbody>\n",
       "    <tr>\n",
       "      <th>1065590</th>\n",
       "      <td>4</td>\n",
       "      <td>1964969545</td>\n",
       "      <td>Fri May 29 15:06:37 PDT 2009</td>\n",
       "      <td>NO_QUERY</td>\n",
       "      <td>i_like_limes</td>\n",
       "      <td>@juliesauce why thank you</td>\n",
       "    </tr>\n",
       "    <tr>\n",
       "      <th>395240</th>\n",
       "      <td>0</td>\n",
       "      <td>2055902835</td>\n",
       "      <td>Sat Jun 06 10:09:52 PDT 2009</td>\n",
       "      <td>NO_QUERY</td>\n",
       "      <td>Gabuki</td>\n",
       "      <td>ow ow ow. my stomach's hurting</td>\n",
       "    </tr>\n",
       "    <tr>\n",
       "      <th>435575</th>\n",
       "      <td>0</td>\n",
       "      <td>2065458470</td>\n",
       "      <td>Sun Jun 07 08:38:16 PDT 2009</td>\n",
       "      <td>NO_QUERY</td>\n",
       "      <td>adrigirl</td>\n",
       "      <td>Enjoying my Sunday morning, although its almos...</td>\n",
       "    </tr>\n",
       "    <tr>\n",
       "      <th>271834</th>\n",
       "      <td>0</td>\n",
       "      <td>1990089175</td>\n",
       "      <td>Mon Jun 01 03:50:39 PDT 2009</td>\n",
       "      <td>NO_QUERY</td>\n",
       "      <td>pascal1982</td>\n",
       "      <td>where is that plane of air france???</td>\n",
       "    </tr>\n",
       "    <tr>\n",
       "      <th>858041</th>\n",
       "      <td>4</td>\n",
       "      <td>1574064694</td>\n",
       "      <td>Tue Apr 21 04:06:09 PDT 2009</td>\n",
       "      <td>NO_QUERY</td>\n",
       "      <td>elainebenter</td>\n",
       "      <td>oh, i got followers! awesome</td>\n",
       "    </tr>\n",
       "  </tbody>\n",
       "</table>\n",
       "</div>"
      ],
      "text/plain": [
       "         target         ids                          date      flag  \\\n",
       "1065590       4  1964969545  Fri May 29 15:06:37 PDT 2009  NO_QUERY   \n",
       "395240        0  2055902835  Sat Jun 06 10:09:52 PDT 2009  NO_QUERY   \n",
       "435575        0  2065458470  Sun Jun 07 08:38:16 PDT 2009  NO_QUERY   \n",
       "271834        0  1990089175  Mon Jun 01 03:50:39 PDT 2009  NO_QUERY   \n",
       "858041        4  1574064694  Tue Apr 21 04:06:09 PDT 2009  NO_QUERY   \n",
       "\n",
       "                 user                                               text  \n",
       "1065590  i_like_limes                         @juliesauce why thank you   \n",
       "395240         Gabuki                    ow ow ow. my stomach's hurting   \n",
       "435575       adrigirl  Enjoying my Sunday morning, although its almos...  \n",
       "271834     pascal1982              where is that plane of air france???   \n",
       "858041   elainebenter                      oh, i got followers! awesome   "
      ]
     },
     "execution_count": 4,
     "metadata": {},
     "output_type": "execute_result"
    }
   ],
   "source": [
    "df = df.sample(160000) # taking 160k rows from the data\n",
    "df.head()"
   ]
  },
  {
   "cell_type": "markdown",
   "id": "c72debdb",
   "metadata": {
    "papermill": {
     "duration": 0.00866,
     "end_time": "2022-11-17T10:19:19.790140",
     "exception": false,
     "start_time": "2022-11-17T10:19:19.781480",
     "status": "completed"
    },
    "tags": []
   },
   "source": [
    "<a id=\"4\"></a> \n",
    "# 3. Let's Explore the Data"
   ]
  },
  {
   "cell_type": "code",
   "execution_count": 5,
   "id": "e8a0d27f",
   "metadata": {
    "execution": {
     "iopub.execute_input": "2022-11-17T10:19:19.808569Z",
     "iopub.status.busy": "2022-11-17T10:19:19.808253Z",
     "iopub.status.idle": "2022-11-17T10:19:19.903022Z",
     "shell.execute_reply": "2022-11-17T10:19:19.901277Z"
    },
    "papermill": {
     "duration": 0.106996,
     "end_time": "2022-11-17T10:19:19.905800",
     "exception": false,
     "start_time": "2022-11-17T10:19:19.798804",
     "status": "completed"
    },
    "tags": []
   },
   "outputs": [
    {
     "name": "stdout",
     "output_type": "stream",
     "text": [
      "<class 'pandas.core.frame.DataFrame'>\n",
      "Int64Index: 160000 entries, 1065590 to 1526827\n",
      "Data columns (total 6 columns):\n",
      " #   Column  Non-Null Count   Dtype \n",
      "---  ------  --------------   ----- \n",
      " 0   target  160000 non-null  int64 \n",
      " 1   ids     160000 non-null  int64 \n",
      " 2   date    160000 non-null  object\n",
      " 3   flag    160000 non-null  object\n",
      " 4   user    160000 non-null  object\n",
      " 5   text    160000 non-null  object\n",
      "dtypes: int64(2), object(4)\n",
      "memory usage: 8.5+ MB\n"
     ]
    }
   ],
   "source": [
    "df.info() # shows the columns, and their types."
   ]
  },
  {
   "cell_type": "code",
   "execution_count": 6,
   "id": "fd59adc9",
   "metadata": {
    "execution": {
     "iopub.execute_input": "2022-11-17T10:19:19.926817Z",
     "iopub.status.busy": "2022-11-17T10:19:19.926529Z",
     "iopub.status.idle": "2022-11-17T10:19:19.932593Z",
     "shell.execute_reply": "2022-11-17T10:19:19.931601Z"
    },
    "papermill": {
     "duration": 0.019388,
     "end_time": "2022-11-17T10:19:19.934625",
     "exception": false,
     "start_time": "2022-11-17T10:19:19.915237",
     "status": "completed"
    },
    "tags": []
   },
   "outputs": [
    {
     "data": {
      "text/plain": [
       "(160000, 6)"
      ]
     },
     "execution_count": 6,
     "metadata": {},
     "output_type": "execute_result"
    }
   ],
   "source": [
    "df.shape"
   ]
  },
  {
   "cell_type": "code",
   "execution_count": 7,
   "id": "71a2eb6f",
   "metadata": {
    "execution": {
     "iopub.execute_input": "2022-11-17T10:19:19.955043Z",
     "iopub.status.busy": "2022-11-17T10:19:19.954306Z",
     "iopub.status.idle": "2022-11-17T10:19:20.336382Z",
     "shell.execute_reply": "2022-11-17T10:19:20.335331Z"
    },
    "papermill": {
     "duration": 0.394891,
     "end_time": "2022-11-17T10:19:20.338880",
     "exception": false,
     "start_time": "2022-11-17T10:19:19.943989",
     "status": "completed"
    },
    "tags": []
   },
   "outputs": [
    {
     "data": {
      "text/html": [
       "<div>\n",
       "<style scoped>\n",
       "    .dataframe tbody tr th:only-of-type {\n",
       "        vertical-align: middle;\n",
       "    }\n",
       "\n",
       "    .dataframe tbody tr th {\n",
       "        vertical-align: top;\n",
       "    }\n",
       "\n",
       "    .dataframe thead th {\n",
       "        text-align: right;\n",
       "    }\n",
       "</style>\n",
       "<table border=\"1\" class=\"dataframe\">\n",
       "  <thead>\n",
       "    <tr style=\"text-align: right;\">\n",
       "      <th></th>\n",
       "      <th>target</th>\n",
       "      <th>ids</th>\n",
       "      <th>date</th>\n",
       "      <th>flag</th>\n",
       "      <th>user</th>\n",
       "      <th>text</th>\n",
       "    </tr>\n",
       "  </thead>\n",
       "  <tbody>\n",
       "    <tr>\n",
       "      <th>count</th>\n",
       "      <td>160000.000000</td>\n",
       "      <td>1.600000e+05</td>\n",
       "      <td>160000</td>\n",
       "      <td>160000</td>\n",
       "      <td>160000</td>\n",
       "      <td>160000</td>\n",
       "    </tr>\n",
       "    <tr>\n",
       "      <th>unique</th>\n",
       "      <td>NaN</td>\n",
       "      <td>NaN</td>\n",
       "      <td>143706</td>\n",
       "      <td>1</td>\n",
       "      <td>123555</td>\n",
       "      <td>159380</td>\n",
       "    </tr>\n",
       "    <tr>\n",
       "      <th>top</th>\n",
       "      <td>NaN</td>\n",
       "      <td>NaN</td>\n",
       "      <td>Tue Jun 02 13:46:43 PDT 2009</td>\n",
       "      <td>NO_QUERY</td>\n",
       "      <td>lost_dog</td>\n",
       "      <td>isPlayer Has Died! Sorry</td>\n",
       "    </tr>\n",
       "    <tr>\n",
       "      <th>freq</th>\n",
       "      <td>NaN</td>\n",
       "      <td>NaN</td>\n",
       "      <td>6</td>\n",
       "      <td>160000</td>\n",
       "      <td>52</td>\n",
       "      <td>25</td>\n",
       "    </tr>\n",
       "    <tr>\n",
       "      <th>mean</th>\n",
       "      <td>1.994300</td>\n",
       "      <td>1.999127e+09</td>\n",
       "      <td>NaN</td>\n",
       "      <td>NaN</td>\n",
       "      <td>NaN</td>\n",
       "      <td>NaN</td>\n",
       "    </tr>\n",
       "    <tr>\n",
       "      <th>std</th>\n",
       "      <td>1.999998</td>\n",
       "      <td>1.933825e+08</td>\n",
       "      <td>NaN</td>\n",
       "      <td>NaN</td>\n",
       "      <td>NaN</td>\n",
       "      <td>NaN</td>\n",
       "    </tr>\n",
       "    <tr>\n",
       "      <th>min</th>\n",
       "      <td>0.000000</td>\n",
       "      <td>1.467812e+09</td>\n",
       "      <td>NaN</td>\n",
       "      <td>NaN</td>\n",
       "      <td>NaN</td>\n",
       "      <td>NaN</td>\n",
       "    </tr>\n",
       "    <tr>\n",
       "      <th>25%</th>\n",
       "      <td>0.000000</td>\n",
       "      <td>1.957033e+09</td>\n",
       "      <td>NaN</td>\n",
       "      <td>NaN</td>\n",
       "      <td>NaN</td>\n",
       "      <td>NaN</td>\n",
       "    </tr>\n",
       "    <tr>\n",
       "      <th>50%</th>\n",
       "      <td>0.000000</td>\n",
       "      <td>2.002255e+09</td>\n",
       "      <td>NaN</td>\n",
       "      <td>NaN</td>\n",
       "      <td>NaN</td>\n",
       "      <td>NaN</td>\n",
       "    </tr>\n",
       "    <tr>\n",
       "      <th>75%</th>\n",
       "      <td>4.000000</td>\n",
       "      <td>2.177081e+09</td>\n",
       "      <td>NaN</td>\n",
       "      <td>NaN</td>\n",
       "      <td>NaN</td>\n",
       "      <td>NaN</td>\n",
       "    </tr>\n",
       "    <tr>\n",
       "      <th>max</th>\n",
       "      <td>4.000000</td>\n",
       "      <td>2.329205e+09</td>\n",
       "      <td>NaN</td>\n",
       "      <td>NaN</td>\n",
       "      <td>NaN</td>\n",
       "      <td>NaN</td>\n",
       "    </tr>\n",
       "  </tbody>\n",
       "</table>\n",
       "</div>"
      ],
      "text/plain": [
       "               target           ids                          date      flag  \\\n",
       "count   160000.000000  1.600000e+05                        160000    160000   \n",
       "unique            NaN           NaN                        143706         1   \n",
       "top               NaN           NaN  Tue Jun 02 13:46:43 PDT 2009  NO_QUERY   \n",
       "freq              NaN           NaN                             6    160000   \n",
       "mean         1.994300  1.999127e+09                           NaN       NaN   \n",
       "std          1.999998  1.933825e+08                           NaN       NaN   \n",
       "min          0.000000  1.467812e+09                           NaN       NaN   \n",
       "25%          0.000000  1.957033e+09                           NaN       NaN   \n",
       "50%          0.000000  2.002255e+09                           NaN       NaN   \n",
       "75%          4.000000  2.177081e+09                           NaN       NaN   \n",
       "max          4.000000  2.329205e+09                           NaN       NaN   \n",
       "\n",
       "            user                       text  \n",
       "count     160000                     160000  \n",
       "unique    123555                     159380  \n",
       "top     lost_dog  isPlayer Has Died! Sorry   \n",
       "freq          52                         25  \n",
       "mean         NaN                        NaN  \n",
       "std          NaN                        NaN  \n",
       "min          NaN                        NaN  \n",
       "25%          NaN                        NaN  \n",
       "50%          NaN                        NaN  \n",
       "75%          NaN                        NaN  \n",
       "max          NaN                        NaN  "
      ]
     },
     "execution_count": 7,
     "metadata": {},
     "output_type": "execute_result"
    }
   ],
   "source": [
    "df.describe(include='all') # To statistical measures of the columns"
   ]
  },
  {
   "cell_type": "code",
   "execution_count": 8,
   "id": "3ecaa333",
   "metadata": {
    "execution": {
     "iopub.execute_input": "2022-11-17T10:19:20.360368Z",
     "iopub.status.busy": "2022-11-17T10:19:20.360045Z",
     "iopub.status.idle": "2022-11-17T10:19:20.598063Z",
     "shell.execute_reply": "2022-11-17T10:19:20.597147Z"
    },
    "papermill": {
     "duration": 0.25069,
     "end_time": "2022-11-17T10:19:20.600495",
     "exception": false,
     "start_time": "2022-11-17T10:19:20.349805",
     "status": "completed"
    },
    "tags": []
   },
   "outputs": [
    {
     "data": {
      "image/png": "[encoded data removed]",
      "text/plain": [
       "<Figure size 640x480 with 1 Axes>"
      ]
     },
     "metadata": {},
     "output_type": "display_data"
    }
   ],
   "source": [
    "sns.countplot(x=df['target']); # shows a count plot refering to the number of 0 and 4 in the column"
   ]
  },
  {
   "cell_type": "code",
   "execution_count": 9,
   "id": "98c6711a",
   "metadata": {
    "execution": {
     "iopub.execute_input": "2022-11-17T10:19:20.621217Z",
     "iopub.status.busy": "2022-11-17T10:19:20.620916Z",
     "iopub.status.idle": "2022-11-17T10:19:20.632791Z",
     "shell.execute_reply": "2022-11-17T10:19:20.631879Z"
    },
    "papermill": {
     "duration": 0.024524,
     "end_time": "2022-11-17T10:19:20.634922",
     "exception": false,
     "start_time": "2022-11-17T10:19:20.610398",
     "status": "completed"
    },
    "tags": []
   },
   "outputs": [],
   "source": [
    "df = df.drop(['ids', 'date', 'flag','user'], axis = 1) # dropping unnecessary columns"
   ]
  },
  {
   "cell_type": "code",
   "execution_count": 10,
   "id": "0bedb1e1",
   "metadata": {
    "execution": {
     "iopub.execute_input": "2022-11-17T10:19:20.657154Z",
     "iopub.status.busy": "2022-11-17T10:19:20.655515Z",
     "iopub.status.idle": "2022-11-17T10:19:20.666503Z",
     "shell.execute_reply": "2022-11-17T10:19:20.665617Z"
    },
    "papermill": {
     "duration": 0.023988,
     "end_time": "2022-11-17T10:19:20.668804",
     "exception": false,
     "start_time": "2022-11-17T10:19:20.644816",
     "status": "completed"
    },
    "tags": []
   },
   "outputs": [
    {
     "data": {
      "text/html": [
       "<div>\n",
       "<style scoped>\n",
       "    .dataframe tbody tr th:only-of-type {\n",
       "        vertical-align: middle;\n",
       "    }\n",
       "\n",
       "    .dataframe tbody tr th {\n",
       "        vertical-align: top;\n",
       "    }\n",
       "\n",
       "    .dataframe thead th {\n",
       "        text-align: right;\n",
       "    }\n",
       "</style>\n",
       "<table border=\"1\" class=\"dataframe\">\n",
       "  <thead>\n",
       "    <tr style=\"text-align: right;\">\n",
       "      <th></th>\n",
       "      <th>target</th>\n",
       "      <th>text</th>\n",
       "    </tr>\n",
       "  </thead>\n",
       "  <tbody>\n",
       "    <tr>\n",
       "      <th>1065590</th>\n",
       "      <td>4</td>\n",
       "      <td>@juliesauce why thank you</td>\n",
       "    </tr>\n",
       "    <tr>\n",
       "      <th>395240</th>\n",
       "      <td>0</td>\n",
       "      <td>ow ow ow. my stomach's hurting</td>\n",
       "    </tr>\n",
       "    <tr>\n",
       "      <th>435575</th>\n",
       "      <td>0</td>\n",
       "      <td>Enjoying my Sunday morning, although its almos...</td>\n",
       "    </tr>\n",
       "    <tr>\n",
       "      <th>271834</th>\n",
       "      <td>0</td>\n",
       "      <td>where is that plane of air france???</td>\n",
       "    </tr>\n",
       "    <tr>\n",
       "      <th>858041</th>\n",
       "      <td>4</td>\n",
       "      <td>oh, i got followers! awesome</td>\n",
       "    </tr>\n",
       "  </tbody>\n",
       "</table>\n",
       "</div>"
      ],
      "text/plain": [
       "         target                                               text\n",
       "1065590       4                         @juliesauce why thank you \n",
       "395240        0                    ow ow ow. my stomach's hurting \n",
       "435575        0  Enjoying my Sunday morning, although its almos...\n",
       "271834        0              where is that plane of air france??? \n",
       "858041        4                      oh, i got followers! awesome "
      ]
     },
     "execution_count": 10,
     "metadata": {},
     "output_type": "execute_result"
    }
   ],
   "source": [
    "df.head()"
   ]
  },
  {
   "cell_type": "markdown",
   "id": "967d055a",
   "metadata": {
    "papermill": {
     "duration": 0.009628,
     "end_time": "2022-11-17T10:19:20.688068",
     "exception": false,
     "start_time": "2022-11-17T10:19:20.678440",
     "status": "completed"
    },
    "tags": []
   },
   "source": [
    "<a id=\"5\"></a> \n",
    "# 4. Preprocessing"
   ]
  },
  {
   "cell_type": "markdown",
   "id": "4f1747f7",
   "metadata": {
    "papermill": {
     "duration": 0.009744,
     "end_time": "2022-11-17T10:19:20.707763",
     "exception": false,
     "start_time": "2022-11-17T10:19:20.698019",
     "status": "completed"
    },
    "tags": []
   },
   "source": [
    "Here 0 represents as negative and 4 as positive so lets change 4 to 1."
   ]
  },
  {
   "cell_type": "code",
   "execution_count": 11,
   "id": "960093b9",
   "metadata": {
    "execution": {
     "iopub.execute_input": "2022-11-17T10:19:20.729586Z",
     "iopub.status.busy": "2022-11-17T10:19:20.728771Z",
     "iopub.status.idle": "2022-11-17T10:19:20.736280Z",
     "shell.execute_reply": "2022-11-17T10:19:20.735314Z"
    },
    "papermill": {
     "duration": 0.020762,
     "end_time": "2022-11-17T10:19:20.738569",
     "exception": false,
     "start_time": "2022-11-17T10:19:20.717807",
     "status": "completed"
    },
    "tags": []
   },
   "outputs": [],
   "source": [
    "df['target']=df['target'].replace(4,1) "
   ]
  },
  {
   "cell_type": "code",
   "execution_count": 12,
   "id": "8e813124",
   "metadata": {
    "execution": {
     "iopub.execute_input": "2022-11-17T10:19:20.759403Z",
     "iopub.status.busy": "2022-11-17T10:19:20.759115Z",
     "iopub.status.idle": "2022-11-17T10:19:20.764110Z",
     "shell.execute_reply": "2022-11-17T10:19:20.763057Z"
    },
    "papermill": {
     "duration": 0.01802,
     "end_time": "2022-11-17T10:19:20.766424",
     "exception": false,
     "start_time": "2022-11-17T10:19:20.748404",
     "status": "completed"
    },
    "tags": []
   },
   "outputs": [],
   "source": [
    "data = df['text']\n",
    "labels = np.array(df['target'])"
   ]
  },
  {
   "cell_type": "code",
   "execution_count": 13,
   "id": "273493fa",
   "metadata": {
    "execution": {
     "iopub.execute_input": "2022-11-17T10:19:20.787172Z",
     "iopub.status.busy": "2022-11-17T10:19:20.786899Z",
     "iopub.status.idle": "2022-11-17T10:19:20.793281Z",
     "shell.execute_reply": "2022-11-17T10:19:20.792191Z"
    },
    "papermill": {
     "duration": 0.020037,
     "end_time": "2022-11-17T10:19:20.796341",
     "exception": false,
     "start_time": "2022-11-17T10:19:20.776304",
     "status": "completed"
    },
    "tags": []
   },
   "outputs": [
    {
     "data": {
      "text/plain": [
       "\"ow ow ow. my stomach's hurting \""
      ]
     },
     "execution_count": 13,
     "metadata": {},
     "output_type": "execute_result"
    }
   ],
   "source": [
    "data.iloc[1] # displaying a row of the data"
   ]
  },
  {
   "cell_type": "markdown",
   "id": "efc77f06",
   "metadata": {
    "papermill": {
     "duration": 0.009879,
     "end_time": "2022-11-17T10:19:20.816539",
     "exception": false,
     "start_time": "2022-11-17T10:19:20.806660",
     "status": "completed"
    },
    "tags": []
   },
   "source": [
    "### 4.B. Stopwords removal"
   ]
  },
  {
   "cell_type": "code",
   "execution_count": 14,
   "id": "5253e098",
   "metadata": {
    "execution": {
     "iopub.execute_input": "2022-11-17T10:19:20.838438Z",
     "iopub.status.busy": "2022-11-17T10:19:20.837614Z",
     "iopub.status.idle": "2022-11-17T10:19:20.850097Z",
     "shell.execute_reply": "2022-11-17T10:19:20.849210Z"
    },
    "papermill": {
     "duration": 0.025566,
     "end_time": "2022-11-17T10:19:20.852010",
     "exception": false,
     "start_time": "2022-11-17T10:19:20.826444",
     "status": "completed"
    },
    "tags": []
   },
   "outputs": [],
   "source": [
    "# this function is copied from another kernel. Don't know who is the original author of it.\n",
    "stop = set(stopwords.words('english'))\n",
    "punctuation = list(string.punctuation)\n",
    "stop.update(punctuation)\n",
    "\n",
    "#Removing the stopwords from text\n",
    "def split_into_words(text):\n",
    "    # split into words by white space\n",
    "    words = text.split()\n",
    "    return words\n",
    "\n",
    "def to_lower_case(words):\n",
    "    # convert to lower case\n",
    "    words = [word.lower() for word in words]\n",
    "    return words\n",
    "\n",
    "def remove_punctuation(words):\n",
    "    # prepare regex for char filtering\n",
    "    re_punc = re.compile('[%s]' % re.escape(string.punctuation))\n",
    "    # remove punctuation from each word\n",
    "    stripped = [re_punc.sub('', w) for w in words]\n",
    "    return stripped\n",
    "\n",
    "def keep_alphabetic(words):\n",
    "    # remove remaining tokens that are not alphabetic\n",
    "    words = [word for word in words if word.isalpha()]\n",
    "    return words\n",
    "\n",
    "def remove_stopwords(words):\n",
    "    # filter out stop words\n",
    "    stop_words = set(stopwords.words('english'))\n",
    "    words = [w for w in words if not w in stop_words]\n",
    "    return words\n",
    "\n",
    "def to_sentence(words):\n",
    "    # join words to a sentence\n",
    "    return ' '.join(words)\n",
    "def tweet(words):\n",
    "    tweet_tokenizer = nltk.tokenize.TweetTokenizer(strip_handles=True,reduce_len=True)\n",
    "    tweet = tweet_tokenizer.tokenize(words)\n",
    "    return tweet\n",
    "        \n",
    "\n",
    "#Removing the noisy text\n",
    "def denoise_text(text):\n",
    "    words = split_into_words(text)\n",
    "    words = to_lower_case(words)\n",
    "    words = remove_punctuation(words)\n",
    "    words = keep_alphabetic(words)\n",
    "    words = remove_stopwords(words)\n",
    "    return to_sentence(words)"
   ]
  },
  {
   "cell_type": "code",
   "execution_count": 17,
   "id": "1d313553",
   "metadata": {
    "execution": {
     "iopub.execute_input": "2022-11-17T10:19:20.873616Z",
     "iopub.status.busy": "2022-11-17T10:19:20.872801Z",
     "iopub.status.idle": "2022-11-17T10:19:45.687730Z",
     "shell.execute_reply": "2022-11-17T10:19:45.686667Z"
    },
    "papermill": {
     "duration": 24.828463,
     "end_time": "2022-11-17T10:19:45.690496",
     "exception": false,
     "start_time": "2022-11-17T10:19:20.862033",
     "status": "completed"
    },
    "tags": []
   },
   "outputs": [],
   "source": [
    "data = data.apply(denoise_text)"
   ]
  },
  {
   "cell_type": "markdown",
   "id": "47ff08f7",
   "metadata": {
    "papermill": {
     "duration": 0.009565,
     "end_time": "2022-11-17T10:19:45.710355",
     "exception": false,
     "start_time": "2022-11-17T10:19:45.700790",
     "status": "completed"
    },
    "tags": []
   },
   "source": [
    "To see the difference in before and after applying stopwords function."
   ]
  },
  {
   "cell_type": "code",
   "execution_count": 18,
   "id": "846c3519",
   "metadata": {
    "execution": {
     "iopub.execute_input": "2022-11-17T10:19:45.730452Z",
     "iopub.status.busy": "2022-11-17T10:19:45.730125Z",
     "iopub.status.idle": "2022-11-17T10:19:45.736116Z",
     "shell.execute_reply": "2022-11-17T10:19:45.735101Z"
    },
    "papermill": {
     "duration": 0.019617,
     "end_time": "2022-11-17T10:19:45.739328",
     "exception": false,
     "start_time": "2022-11-17T10:19:45.719711",
     "status": "completed"
    },
    "tags": []
   },
   "outputs": [
    {
     "name": "stdout",
     "output_type": "stream",
     "text": [
      "Before: ['@juliesauce why thank you ', \"ow ow ow. my stomach's hurting \"]\n",
      "---\n",
      "After: ['juliesauce thank', 'ow ow ow stomachs hurting']\n"
     ]
    }
   ],
   "source": [
    "print('Before: {}'. format(list(df['text'][:2])))\n",
    "print('---')\n",
    "print('After: {}'. format(list(data[:2])))"
   ]
  },
  {
   "cell_type": "code",
   "execution_count": 19,
   "id": "5363a5f5",
   "metadata": {
    "execution": {
     "iopub.execute_input": "2022-11-17T10:19:45.760814Z",
     "iopub.status.busy": "2022-11-17T10:19:45.760521Z",
     "iopub.status.idle": "2022-11-17T10:19:45.765903Z",
     "shell.execute_reply": "2022-11-17T10:19:45.764942Z"
    },
    "papermill": {
     "duration": 0.018646,
     "end_time": "2022-11-17T10:19:45.768509",
     "exception": false,
     "start_time": "2022-11-17T10:19:45.749863",
     "status": "completed"
    },
    "tags": []
   },
   "outputs": [
    {
     "name": "stdout",
     "output_type": "stream",
     "text": [
      "dataset contains 160000 examples\n",
      "\n",
      "Text of second example should look like this:  ow ow ow stomachs hurting\n",
      "\n",
      "Text of fourth example should look like this:  plane air france\n",
      "\n",
      "Labels of last 5 examples should look like this:\n",
      "[1 1 0 0 1]\n"
     ]
    }
   ],
   "source": [
    "print(f\"dataset contains {len(data)} examples\\n\")\n",
    "\n",
    "print(f\"Text of second example should look like this:  {data.iloc[1]}\\n\")\n",
    "print(f\"Text of fourth example should look like this:  {data.iloc[3]}\")\n",
    "\n",
    "print(f\"\\nLabels of last 5 examples should look like this:\\n{labels[-5:]}\")"
   ]
  },
  {
   "cell_type": "markdown",
   "id": "72054b15",
   "metadata": {
    "papermill": {
     "duration": 0.009253,
     "end_time": "2022-11-17T10:19:45.788490",
     "exception": false,
     "start_time": "2022-11-17T10:19:45.779237",
     "status": "completed"
    },
    "tags": []
   },
   "source": [
    "# 4.C. Splitting the Data "
   ]
  },
  {
   "cell_type": "code",
   "execution_count": 20,
   "id": "c745978a",
   "metadata": {
    "execution": {
     "iopub.execute_input": "2022-11-17T10:19:45.808480Z",
     "iopub.status.busy": "2022-11-17T10:19:45.808208Z",
     "iopub.status.idle": "2022-11-17T10:19:45.862743Z",
     "shell.execute_reply": "2022-11-17T10:19:45.861871Z"
    },
    "papermill": {
     "duration": 0.066669,
     "end_time": "2022-11-17T10:19:45.864721",
     "exception": false,
     "start_time": "2022-11-17T10:19:45.798052",
     "status": "completed"
    },
    "tags": []
   },
   "outputs": [],
   "source": [
    "# Split in training validation and test sets\n",
    "X_train, X_test, y_train, y_test = test = train_test_split(data, labels,test_size=0.20,\n",
    "                                                           random_state=1,\n",
    "                                                           stratify = labels)"
   ]
  },
  {
   "cell_type": "markdown",
   "id": "78fef78f",
   "metadata": {
    "papermill": {
     "duration": 0.009397,
     "end_time": "2022-11-17T10:19:45.884036",
     "exception": false,
     "start_time": "2022-11-17T10:19:45.874639",
     "status": "completed"
    },
    "tags": []
   },
   "source": [
    "<a id=\"6\"></a> \n",
    "# 5. TOKENIZER "
   ]
  },
  {
   "cell_type": "code",
   "execution_count": 21,
   "id": "8bf88074",
   "metadata": {
    "execution": {
     "iopub.execute_input": "2022-11-17T10:19:45.906002Z",
     "iopub.status.busy": "2022-11-17T10:19:45.904527Z",
     "iopub.status.idle": "2022-11-17T10:19:47.748092Z",
     "shell.execute_reply": "2022-11-17T10:19:47.747155Z"
    },
    "papermill": {
     "duration": 1.856624,
     "end_time": "2022-11-17T10:19:47.750343",
     "exception": false,
     "start_time": "2022-11-17T10:19:45.893719",
     "status": "completed"
    },
    "tags": []
   },
   "outputs": [
    {
     "data": {
      "text/plain": [
       "116346"
      ]
     },
     "execution_count": 21,
     "metadata": {},
     "output_type": "execute_result"
    }
   ],
   "source": [
    "# lets take 10k words in num_words\n",
    "tokenizer = Tokenizer(num_words=10000, oov_token = '<OOV>')\n",
    "tokenizer.fit_on_texts(X_train)\n",
    "word_index = tokenizer.word_index\n",
    "VOCAB_SIZE = len(word_index)+1\n",
    "VOCAB_SIZE"
   ]
  },
  {
   "cell_type": "code",
   "execution_count": 22,
   "id": "5e0ac35f",
   "metadata": {
    "execution": {
     "iopub.execute_input": "2022-11-17T10:19:47.772884Z",
     "iopub.status.busy": "2022-11-17T10:19:47.771212Z",
     "iopub.status.idle": "2022-11-17T10:19:47.816277Z",
     "shell.execute_reply": "2022-11-17T10:19:47.815438Z"
    },
    "papermill": {
     "duration": 0.058106,
     "end_time": "2022-11-17T10:19:47.818397",
     "exception": false,
     "start_time": "2022-11-17T10:19:47.760291",
     "status": "completed"
    },
    "tags": []
   },
   "outputs": [],
   "source": [
    "maxlen = max([len(x) for x in X_train]) # return 175 which is too big for tweets data.\n",
    "maxlen = 50"
   ]
  },
  {
   "cell_type": "markdown",
   "id": "d2493b0b",
   "metadata": {
    "papermill": {
     "duration": 0.009464,
     "end_time": "2022-11-17T10:19:47.837630",
     "exception": false,
     "start_time": "2022-11-17T10:19:47.828166",
     "status": "completed"
    },
    "tags": []
   },
   "source": [
    "### 5.B. Sequencing and Padding"
   ]
  },
  {
   "cell_type": "code",
   "execution_count": 23,
   "id": "d7242a8a",
   "metadata": {
    "execution": {
     "iopub.execute_input": "2022-11-17T10:19:47.858766Z",
     "iopub.status.busy": "2022-11-17T10:19:47.857956Z",
     "iopub.status.idle": "2022-11-17T10:19:50.506734Z",
     "shell.execute_reply": "2022-11-17T10:19:50.505613Z"
    },
    "papermill": {
     "duration": 2.662343,
     "end_time": "2022-11-17T10:19:50.509675",
     "exception": false,
     "start_time": "2022-11-17T10:19:47.847332",
     "status": "completed"
    },
    "tags": []
   },
   "outputs": [],
   "source": [
    "train_sequences = tokenizer.texts_to_sequences(X_train)\n",
    "train_padded_sequences = pad_sequences(train_sequences,maxlen=maxlen,padding='post',truncating='post')\n",
    "test_sequences = tokenizer.texts_to_sequences(X_test)\n",
    "test_padded_sequences = pad_sequences(test_sequences,maxlen=maxlen,padding='post',truncating='post')"
   ]
  },
  {
   "cell_type": "code",
   "execution_count": 24,
   "id": "6370fb2b",
   "metadata": {
    "execution": {
     "iopub.execute_input": "2022-11-17T10:19:50.533817Z",
     "iopub.status.busy": "2022-11-17T10:19:50.533475Z",
     "iopub.status.idle": "2022-11-17T10:19:50.540312Z",
     "shell.execute_reply": "2022-11-17T10:19:50.539219Z"
    },
    "papermill": {
     "duration": 0.022375,
     "end_time": "2022-11-17T10:19:50.543841",
     "exception": false,
     "start_time": "2022-11-17T10:19:50.521466",
     "status": "completed"
    },
    "tags": []
   },
   "outputs": [
    {
     "data": {
      "text/plain": [
       "50"
      ]
     },
     "execution_count": 24,
     "metadata": {},
     "output_type": "execute_result"
    }
   ],
   "source": [
    "len(train_padded_sequences[0])"
   ]
  },
  {
   "cell_type": "markdown",
   "id": "dd141386",
   "metadata": {
    "papermill": {
     "duration": 0.010785,
     "end_time": "2022-11-17T10:19:50.565609",
     "exception": false,
     "start_time": "2022-11-17T10:19:50.554824",
     "status": "completed"
    },
    "tags": []
   },
   "source": [
    "<a id=\"7\"></a> \n",
    "# 5. Data Modeling "
   ]
  },
  {
   "cell_type": "code",
   "execution_count": 28,
   "id": "699dcf8a",
   "metadata": {
    "execution": {
     "iopub.execute_input": "2022-11-17T10:19:50.590456Z",
     "iopub.status.busy": "2022-11-17T10:19:50.588677Z",
     "iopub.status.idle": "2022-11-17T10:19:50.594466Z",
     "shell.execute_reply": "2022-11-17T10:19:50.593511Z"
    },
    "papermill": {
     "duration": 0.020211,
     "end_time": "2022-11-17T10:19:50.596898",
     "exception": false,
     "start_time": "2022-11-17T10:19:50.576687",
     "status": "completed"
    },
    "tags": []
   },
   "outputs": [],
   "source": [
    "embedding_dim = 32"
   ]
  },
  {
   "cell_type": "code",
   "execution_count": 34,
   "id": "c3ed9e43",
   "metadata": {
    "execution": {
     "iopub.execute_input": "2022-11-17T10:19:50.620294Z",
     "iopub.status.busy": "2022-11-17T10:19:50.619982Z",
     "iopub.status.idle": "2022-11-17T10:19:55.230287Z",
     "shell.execute_reply": "2022-11-17T10:19:55.229307Z"
    },
    "papermill": {
     "duration": 4.625194,
     "end_time": "2022-11-17T10:19:55.233102",
     "exception": false,
     "start_time": "2022-11-17T10:19:50.607908",
     "status": "completed"
    },
    "tags": []
   },
   "outputs": [],
   "source": [
    "model = tf.keras.Sequential([\n",
    "        tf.keras.layers.Embedding(VOCAB_SIZE+1, embedding_dim, input_length=maxlen),\n",
    "        tf.keras.layers.Bidirectional(tf.keras.layers.LSTM(16)),\n",
    "        tf.keras.layers.Flatten(),\n",
    "        tf.keras.layers.BatchNormalization(),\n",
    "        tf.keras.layers.Dropout(0.30),\n",
    "        tf.keras.layers.Dense(embedding_dim,activation='relu'),\n",
    "        tf.keras.layers.BatchNormalization(),\n",
    "        tf.keras.layers.Dropout(0.30),\n",
    "        tf.keras.layers.Dense(8,activation='relu'),\n",
    "        tf.keras.layers.Dense(1,activation='sigmoid'),\n",
    "    ])\n",
    "\n",
    "model.compile(loss = 'binary_crossentropy',\n",
    "                optimizer = 'adam',\n",
    "                metrics = ['accuracy'])"
   ]
  },
  {
   "cell_type": "code",
   "execution_count": 33,
   "id": "ca202da3",
   "metadata": {
    "execution": {
     "iopub.execute_input": "2022-11-17T10:19:55.256786Z",
     "iopub.status.busy": "2022-11-17T10:19:55.256482Z",
     "iopub.status.idle": "2022-11-17T10:19:55.263281Z",
     "shell.execute_reply": "2022-11-17T10:19:55.262291Z"
    },
    "papermill": {
     "duration": 0.021374,
     "end_time": "2022-11-17T10:19:55.266068",
     "exception": false,
     "start_time": "2022-11-17T10:19:55.244694",
     "status": "completed"
    },
    "tags": []
   },
   "outputs": [
    {
     "data": {
      "text/html": [
       "<pre style=\"white-space:pre;overflow-x:auto;line-height:normal;font-family:Menlo,'DejaVu Sans Mono',consolas,'Courier New',monospace\"><span style=\"font-weight: bold\">Model: \"sequential_1\"</span>\n",
       "</pre>\n"
      ],
      "text/plain": [
       "\u001b[1mModel: \"sequential_1\"\u001b[0m\n"
      ]
     },
     "metadata": {},
     "output_type": "display_data"
    },
    {
     "data": {
      "text/html": [
       "<pre style=\"white-space:pre;overflow-x:auto;line-height:normal;font-family:Menlo,'DejaVu Sans Mono',consolas,'Courier New',monospace\">┏━━━━━━━━━━━━━━━━━━━━━━━━━━━━━━━━━━━━━━┳━━━━━━━━━━━━━━━━━━━━━━━━━━━━━┳━━━━━━━━━━━━━━━━━┓\n",
       "┃<span style=\"font-weight: bold\"> Layer (type)                         </span>┃<span style=\"font-weight: bold\"> Output Shape                </span>┃<span style=\"font-weight: bold\">         Param # </span>┃\n",
       "┡━━━━━━━━━━━━━━━━━━━━━━━━━━━━━━━━━━━━━━╇━━━━━━━━━━━━━━━━━━━━━━━━━━━━━╇━━━━━━━━━━━━━━━━━┩\n",
       "│ embedding_1 (<span style=\"color: #0087ff; text-decoration-color: #0087ff\">Embedding</span>)              │ (<span style=\"color: #00af00; text-decoration-color: #00af00\">32</span>, <span style=\"color: #00af00; text-decoration-color: #00af00\">50</span>, <span style=\"color: #00af00; text-decoration-color: #00af00\">32</span>)                │       <span style=\"color: #00af00; text-decoration-color: #00af00\">3,723,104</span> │\n",
       "├──────────────────────────────────────┼─────────────────────────────┼─────────────────┤\n",
       "│ bidirectional_1 (<span style=\"color: #0087ff; text-decoration-color: #0087ff\">Bidirectional</span>)      │ (<span style=\"color: #00af00; text-decoration-color: #00af00\">32</span>, <span style=\"color: #00af00; text-decoration-color: #00af00\">32</span>)                    │           <span style=\"color: #00af00; text-decoration-color: #00af00\">6,272</span> │\n",
       "├──────────────────────────────────────┼─────────────────────────────┼─────────────────┤\n",
       "│ flatten_1 (<span style=\"color: #0087ff; text-decoration-color: #0087ff\">Flatten</span>)                  │ (<span style=\"color: #00af00; text-decoration-color: #00af00\">32</span>, <span style=\"color: #00af00; text-decoration-color: #00af00\">32</span>)                    │               <span style=\"color: #00af00; text-decoration-color: #00af00\">0</span> │\n",
       "├──────────────────────────────────────┼─────────────────────────────┼─────────────────┤\n",
       "│ batch_normalization_2                │ (<span style=\"color: #00af00; text-decoration-color: #00af00\">32</span>, <span style=\"color: #00af00; text-decoration-color: #00af00\">32</span>)                    │             <span style=\"color: #00af00; text-decoration-color: #00af00\">128</span> │\n",
       "│ (<span style=\"color: #0087ff; text-decoration-color: #0087ff\">BatchNormalization</span>)                 │                             │                 │\n",
       "├──────────────────────────────────────┼─────────────────────────────┼─────────────────┤\n",
       "│ dropout_2 (<span style=\"color: #0087ff; text-decoration-color: #0087ff\">Dropout</span>)                  │ (<span style=\"color: #00af00; text-decoration-color: #00af00\">32</span>, <span style=\"color: #00af00; text-decoration-color: #00af00\">32</span>)                    │               <span style=\"color: #00af00; text-decoration-color: #00af00\">0</span> │\n",
       "├──────────────────────────────────────┼─────────────────────────────┼─────────────────┤\n",
       "│ dense_3 (<span style=\"color: #0087ff; text-decoration-color: #0087ff\">Dense</span>)                      │ (<span style=\"color: #00af00; text-decoration-color: #00af00\">32</span>, <span style=\"color: #00af00; text-decoration-color: #00af00\">32</span>)                    │           <span style=\"color: #00af00; text-decoration-color: #00af00\">1,056</span> │\n",
       "├──────────────────────────────────────┼─────────────────────────────┼─────────────────┤\n",
       "│ batch_normalization_3                │ (<span style=\"color: #00af00; text-decoration-color: #00af00\">32</span>, <span style=\"color: #00af00; text-decoration-color: #00af00\">32</span>)                    │             <span style=\"color: #00af00; text-decoration-color: #00af00\">128</span> │\n",
       "│ (<span style=\"color: #0087ff; text-decoration-color: #0087ff\">BatchNormalization</span>)                 │                             │                 │\n",
       "├──────────────────────────────────────┼─────────────────────────────┼─────────────────┤\n",
       "│ dropout_3 (<span style=\"color: #0087ff; text-decoration-color: #0087ff\">Dropout</span>)                  │ (<span style=\"color: #00af00; text-decoration-color: #00af00\">32</span>, <span style=\"color: #00af00; text-decoration-color: #00af00\">32</span>)                    │               <span style=\"color: #00af00; text-decoration-color: #00af00\">0</span> │\n",
       "├──────────────────────────────────────┼─────────────────────────────┼─────────────────┤\n",
       "│ dense_4 (<span style=\"color: #0087ff; text-decoration-color: #0087ff\">Dense</span>)                      │ (<span style=\"color: #00af00; text-decoration-color: #00af00\">32</span>, <span style=\"color: #00af00; text-decoration-color: #00af00\">8</span>)                     │             <span style=\"color: #00af00; text-decoration-color: #00af00\">264</span> │\n",
       "├──────────────────────────────────────┼─────────────────────────────┼─────────────────┤\n",
       "│ dense_5 (<span style=\"color: #0087ff; text-decoration-color: #0087ff\">Dense</span>)                      │ (<span style=\"color: #00af00; text-decoration-color: #00af00\">32</span>, <span style=\"color: #00af00; text-decoration-color: #00af00\">1</span>)                     │               <span style=\"color: #00af00; text-decoration-color: #00af00\">9</span> │\n",
       "└──────────────────────────────────────┴─────────────────────────────┴─────────────────┘\n",
       "</pre>\n"
      ],
      "text/plain": [
       "┏━━━━━━━━━━━━━━━━━━━━━━━━━━━━━━━━━━━━━━┳━━━━━━━━━━━━━━━━━━━━━━━━━━━━━┳━━━━━━━━━━━━━━━━━┓\n",
       "┃\u001b[1m \u001b[0m\u001b[1mLayer (type)                        \u001b[0m\u001b[1m \u001b[0m┃\u001b[1m \u001b[0m\u001b[1mOutput Shape               \u001b[0m\u001b[1m \u001b[0m┃\u001b[1m \u001b[0m\u001b[1m        Param #\u001b[0m\u001b[1m \u001b[0m┃\n",
       "┡━━━━━━━━━━━━━━━━━━━━━━━━━━━━━━━━━━━━━━╇━━━━━━━━━━━━━━━━━━━━━━━━━━━━━╇━━━━━━━━━━━━━━━━━┩\n",
       "│ embedding_1 (\u001b[38;5;33mEmbedding\u001b[0m)              │ (\u001b[38;5;34m32\u001b[0m, \u001b[38;5;34m50\u001b[0m, \u001b[38;5;34m32\u001b[0m)                │       \u001b[38;5;34m3,723,104\u001b[0m │\n",
       "├──────────────────────────────────────┼─────────────────────────────┼─────────────────┤\n",
       "│ bidirectional_1 (\u001b[38;5;33mBidirectional\u001b[0m)      │ (\u001b[38;5;34m32\u001b[0m, \u001b[38;5;34m32\u001b[0m)                    │           \u001b[38;5;34m6,272\u001b[0m │\n",
       "├──────────────────────────────────────┼─────────────────────────────┼─────────────────┤\n",
       "│ flatten_1 (\u001b[38;5;33mFlatten\u001b[0m)                  │ (\u001b[38;5;34m32\u001b[0m, \u001b[38;5;34m32\u001b[0m)                    │               \u001b[38;5;34m0\u001b[0m │\n",
       "├──────────────────────────────────────┼─────────────────────────────┼─────────────────┤\n",
       "│ batch_normalization_2                │ (\u001b[38;5;34m32\u001b[0m, \u001b[38;5;34m32\u001b[0m)                    │             \u001b[38;5;34m128\u001b[0m │\n",
       "│ (\u001b[38;5;33mBatchNormalization\u001b[0m)                 │                             │                 │\n",
       "├──────────────────────────────────────┼─────────────────────────────┼─────────────────┤\n",
       "│ dropout_2 (\u001b[38;5;33mDropout\u001b[0m)                  │ (\u001b[38;5;34m32\u001b[0m, \u001b[38;5;34m32\u001b[0m)                    │               \u001b[38;5;34m0\u001b[0m │\n",
       "├──────────────────────────────────────┼─────────────────────────────┼─────────────────┤\n",
       "│ dense_3 (\u001b[38;5;33mDense\u001b[0m)                      │ (\u001b[38;5;34m32\u001b[0m, \u001b[38;5;34m32\u001b[0m)                    │           \u001b[38;5;34m1,056\u001b[0m │\n",
       "├──────────────────────────────────────┼─────────────────────────────┼─────────────────┤\n",
       "│ batch_normalization_3                │ (\u001b[38;5;34m32\u001b[0m, \u001b[38;5;34m32\u001b[0m)                    │             \u001b[38;5;34m128\u001b[0m │\n",
       "│ (\u001b[38;5;33mBatchNormalization\u001b[0m)                 │                             │                 │\n",
       "├──────────────────────────────────────┼─────────────────────────────┼─────────────────┤\n",
       "│ dropout_3 (\u001b[38;5;33mDropout\u001b[0m)                  │ (\u001b[38;5;34m32\u001b[0m, \u001b[38;5;34m32\u001b[0m)                    │               \u001b[38;5;34m0\u001b[0m │\n",
       "├──────────────────────────────────────┼─────────────────────────────┼─────────────────┤\n",
       "│ dense_4 (\u001b[38;5;33mDense\u001b[0m)                      │ (\u001b[38;5;34m32\u001b[0m, \u001b[38;5;34m8\u001b[0m)                     │             \u001b[38;5;34m264\u001b[0m │\n",
       "├──────────────────────────────────────┼─────────────────────────────┼─────────────────┤\n",
       "│ dense_5 (\u001b[38;5;33mDense\u001b[0m)                      │ (\u001b[38;5;34m32\u001b[0m, \u001b[38;5;34m1\u001b[0m)                     │               \u001b[38;5;34m9\u001b[0m │\n",
       "└──────────────────────────────────────┴─────────────────────────────┴─────────────────┘\n"
      ]
     },
     "metadata": {},
     "output_type": "display_data"
    },
    {
     "data": {
      "text/html": [
       "<pre style=\"white-space:pre;overflow-x:auto;line-height:normal;font-family:Menlo,'DejaVu Sans Mono',consolas,'Courier New',monospace\"><span style=\"font-weight: bold\"> Total params: </span><span style=\"color: #00af00; text-decoration-color: #00af00\">11,192,629</span> (42.70 MB)\n",
       "</pre>\n"
      ],
      "text/plain": [
       "\u001b[1m Total params: \u001b[0m\u001b[38;5;34m11,192,629\u001b[0m (42.70 MB)\n"
      ]
     },
     "metadata": {},
     "output_type": "display_data"
    },
    {
     "data": {
      "text/html": [
       "<pre style=\"white-space:pre;overflow-x:auto;line-height:normal;font-family:Menlo,'DejaVu Sans Mono',consolas,'Courier New',monospace\"><span style=\"font-weight: bold\"> Trainable params: </span><span style=\"color: #00af00; text-decoration-color: #00af00\">3,730,833</span> (14.23 MB)\n",
       "</pre>\n"
      ],
      "text/plain": [
       "\u001b[1m Trainable params: \u001b[0m\u001b[38;5;34m3,730,833\u001b[0m (14.23 MB)\n"
      ]
     },
     "metadata": {},
     "output_type": "display_data"
    },
    {
     "data": {
      "text/html": [
       "<pre style=\"white-space:pre;overflow-x:auto;line-height:normal;font-family:Menlo,'DejaVu Sans Mono',consolas,'Courier New',monospace\"><span style=\"font-weight: bold\"> Non-trainable params: </span><span style=\"color: #00af00; text-decoration-color: #00af00\">128</span> (512.00 B)\n",
       "</pre>\n"
      ],
      "text/plain": [
       "\u001b[1m Non-trainable params: \u001b[0m\u001b[38;5;34m128\u001b[0m (512.00 B)\n"
      ]
     },
     "metadata": {},
     "output_type": "display_data"
    },
    {
     "data": {
      "text/html": [
       "<pre style=\"white-space:pre;overflow-x:auto;line-height:normal;font-family:Menlo,'DejaVu Sans Mono',consolas,'Courier New',monospace\"><span style=\"font-weight: bold\"> Optimizer params: </span><span style=\"color: #00af00; text-decoration-color: #00af00\">7,461,668</span> (28.46 MB)\n",
       "</pre>\n"
      ],
      "text/plain": [
       "\u001b[1m Optimizer params: \u001b[0m\u001b[38;5;34m7,461,668\u001b[0m (28.46 MB)\n"
      ]
     },
     "metadata": {},
     "output_type": "display_data"
    }
   ],
   "source": [
    "#summary of the model.\n",
    "model.summary()"
   ]
  },
  {
   "cell_type": "code",
   "execution_count": 31,
   "id": "7f22c1c2",
   "metadata": {
    "execution": {
     "iopub.execute_input": "2022-11-17T10:19:55.289787Z",
     "iopub.status.busy": "2022-11-17T10:19:55.288242Z",
     "iopub.status.idle": "2022-11-17T10:27:19.890681Z",
     "shell.execute_reply": "2022-11-17T10:27:19.889542Z"
    },
    "papermill": {
     "duration": 444.616233,
     "end_time": "2022-11-17T10:27:19.893161",
     "exception": false,
     "start_time": "2022-11-17T10:19:55.276928",
     "status": "completed"
    },
    "tags": []
   },
   "outputs": [
    {
     "name": "stdout",
     "output_type": "stream",
     "text": [
      "Epoch 1/3\n",
      "\u001b[1m4000/4000\u001b[0m \u001b[32m━━━━━━━━━━━━━━━━━━━━\u001b[0m\u001b[37m\u001b[0m \u001b[1m120s\u001b[0m 29ms/step - accuracy: 0.6840 - loss: 0.5890 - val_accuracy: 0.5875 - val_loss: 0.6772\n",
      "Epoch 2/3\n",
      "\u001b[1m4000/4000\u001b[0m \u001b[32m━━━━━━━━━━━━━━━━━━━━\u001b[0m\u001b[37m\u001b[0m \u001b[1m115s\u001b[0m 29ms/step - accuracy: 0.7745 - loss: 0.4779 - val_accuracy: 0.7686 - val_loss: 0.4796\n",
      "Epoch 3/3\n",
      "\u001b[1m4000/4000\u001b[0m \u001b[32m━━━━━━━━━━━━━━━━━━━━\u001b[0m\u001b[37m\u001b[0m \u001b[1m116s\u001b[0m 29ms/step - accuracy: 0.7938 - loss: 0.4450 - val_accuracy: 0.7630 - val_loss: 0.4858\n"
     ]
    }
   ],
   "source": [
    "# Training the model we created above. \n",
    "history =    model.fit(train_padded_sequences,\n",
    "                                               y_train,\n",
    "                                               validation_data = (test_padded_sequences, y_test),\n",
    "                                               epochs = 3)"
   ]
  },
  {
   "cell_type": "code",
   "execution_count": 35,
   "id": "b48c58ac",
   "metadata": {
    "execution": {
     "iopub.execute_input": "2022-11-17T10:27:20.548072Z",
     "iopub.status.busy": "2022-11-17T10:27:20.547709Z",
     "iopub.status.idle": "2022-11-17T10:27:20.553522Z",
     "shell.execute_reply": "2022-11-17T10:27:20.552321Z"
    },
    "papermill": {
     "duration": 0.318402,
     "end_time": "2022-11-17T10:27:20.556229",
     "exception": false,
     "start_time": "2022-11-17T10:27:20.237827",
     "status": "completed"
    },
    "tags": []
   },
   "outputs": [
    {
     "name": "stdout",
     "output_type": "stream",
     "text": [
      "sitting sister enjoying guiness label: ; 1\n"
     ]
    }
   ],
   "source": [
    "print(X_test.iloc[99],'label: ;',y_test[99])"
   ]
  },
  {
   "cell_type": "code",
   "execution_count": 36,
   "id": "0c976768",
   "metadata": {
    "execution": {
     "iopub.execute_input": "2022-11-17T10:27:21.396022Z",
     "iopub.status.busy": "2022-11-17T10:27:21.395645Z",
     "iopub.status.idle": "2022-11-17T10:27:22.669447Z",
     "shell.execute_reply": "2022-11-17T10:27:22.668382Z"
    },
    "papermill": {
     "duration": 1.654122,
     "end_time": "2022-11-17T10:27:22.671596",
     "exception": false,
     "start_time": "2022-11-17T10:27:21.017474",
     "status": "completed"
    },
    "tags": []
   },
   "outputs": [
    {
     "data": {
      "text/plain": [
       "'sitting sister enjoying <OOV> <OOV> <OOV> <OOV> <OOV> <OOV> <OOV> <OOV> <OOV> <OOV> <OOV> <OOV> <OOV> <OOV> <OOV> <OOV> <OOV> <OOV> <OOV> <OOV> <OOV> <OOV> <OOV> <OOV> <OOV> <OOV> <OOV> <OOV> <OOV> <OOV> <OOV> <OOV> <OOV> <OOV> <OOV> <OOV> <OOV> <OOV> <OOV> <OOV> <OOV> <OOV> <OOV> <OOV> <OOV> <OOV> <OOV>'"
      ]
     },
     "execution_count": 36,
     "metadata": {},
     "output_type": "execute_result"
    }
   ],
   "source": [
    "tokenizer.sequences_to_texts(test_padded_sequences)[99]"
   ]
  },
  {
   "cell_type": "code",
   "execution_count": 37,
   "id": "53fba623",
   "metadata": {
    "execution": {
     "iopub.execute_input": "2022-11-17T10:27:23.274382Z",
     "iopub.status.busy": "2022-11-17T10:27:23.273970Z",
     "iopub.status.idle": "2022-11-17T10:27:31.073529Z",
     "shell.execute_reply": "2022-11-17T10:27:31.072304Z"
    },
    "papermill": {
     "duration": 8.101452,
     "end_time": "2022-11-17T10:27:31.075992",
     "exception": false,
     "start_time": "2022-11-17T10:27:22.974540",
     "status": "completed"
    },
    "tags": []
   },
   "outputs": [
    {
     "name": "stdout",
     "output_type": "stream",
     "text": [
      "\u001b[1m1000/1000\u001b[0m \u001b[32m━━━━━━━━━━━━━━━━━━━━\u001b[0m\u001b[37m\u001b[0m \u001b[1m4s\u001b[0m 3ms/step\n"
     ]
    },
    {
     "data": {
      "text/plain": [
       "array([0.49627855], dtype=float32)"
      ]
     },
     "execution_count": 37,
     "metadata": {},
     "output_type": "execute_result"
    }
   ],
   "source": [
    "model.predict(test_padded_sequences)[99]"
   ]
  },
  {
   "cell_type": "code",
   "execution_count": 38,
   "id": "ae46a531",
   "metadata": {
    "execution": {
     "iopub.execute_input": "2022-11-17T10:27:31.787999Z",
     "iopub.status.busy": "2022-11-17T10:27:31.787407Z",
     "iopub.status.idle": "2022-11-17T10:27:32.572684Z",
     "shell.execute_reply": "2022-11-17T10:27:32.569585Z"
    },
    "papermill": {
     "duration": 1.162203,
     "end_time": "2022-11-17T10:27:32.578734",
     "exception": false,
     "start_time": "2022-11-17T10:27:31.416531",
     "status": "completed"
    },
    "tags": []
   },
   "outputs": [
    {
     "data": {
      "image/png": "[encoded data removed]",
      "text/plain": [
       "<Figure size 640x480 with 1 Axes>"
      ]
     },
     "metadata": {},
     "output_type": "display_data"
    },
    {
     "data": {
      "image/png": "[encoded data removed]",
      "text/plain": [
       "<Figure size 640x480 with 1 Axes>"
      ]
     },
     "metadata": {},
     "output_type": "display_data"
    }
   ],
   "source": [
    "import matplotlib.pyplot as plt\n",
    "\n",
    "# Plot utility\n",
    "def plot_graphs(model, string):\n",
    "  plt.plot(model.history[string])\n",
    "  plt.plot(model.history['val_'+string])\n",
    "  plt.xlabel(\"Epochs\")\n",
    "  plt.ylabel(string)\n",
    "  plt.legend([string, 'val_'+string])\n",
    "  plt.show()\n",
    "  \n",
    "# Plot the accuracy and loss\n",
    "plot_graphs(history, \"accuracy\")\n",
    "plot_graphs(history, \"loss\")"
   ]
  },
  {
   "cell_type": "code",
   "execution_count": 39,
   "id": "dbc1c294",
   "metadata": {},
   "outputs": [
    {
     "name": "stdout",
     "output_type": "stream",
     "text": [
      "Final Training Accuracy: 0.7875\n",
      "Final Validation Accuracy: 0.7630\n"
     ]
    }
   ],
   "source": [
    "train_accuracy = history.history['accuracy'][-1]\n",
    "val_accuracy = history.history['val_accuracy'][-1]\n",
    "print(f\"Final Training Accuracy: {train_accuracy:.4f}\")\n",
    "print(f\"Final Validation Accuracy: {val_accuracy:.4f}\")"
   ]
  }
 ],
 "metadata": {
  "kernelspec": {
   "display_name": "Python 3 (ipykernel)",
   "language": "python",
   "name": "python3"
  },
  "language_info": {
   "codemirror_mode": {
    "name": "ipython",
    "version": 3
   },
   "file_extension": ".py",
   "mimetype": "text/x-python",
   "name": "python",
   "nbconvert_exporter": "python",
   "pygments_lexer": "ipython3",
   "version": "3.11.4"
  },
  "papermill": {
   "default_parameters": {},
   "duration": 520.687341,
   "end_time": "2022-11-17T10:27:37.582128",
   "environment_variables": {},
   "exception": null,
   "input_path": "__notebook__.ipynb",
   "output_path": "__notebook__.ipynb",
   "parameters": {},
   "start_time": "2022-11-17T10:18:56.894787",
   "version": "2.3.4"
  }
 },
 "nbformat": 4,
 "nbformat_minor": 5
}
